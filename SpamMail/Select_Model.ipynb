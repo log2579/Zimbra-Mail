{
 "cells": [
  {
   "cell_type": "markdown",
   "metadata": {},
   "source": [
    "Import X_Train, X_Test, Y_Train, Y_Test"
   ]
  },
  {
   "cell_type": "code",
   "execution_count": 1,
   "metadata": {},
   "outputs": [],
   "source": [
    "import numpy as np"
   ]
  },
  {
   "cell_type": "code",
   "execution_count": 2,
   "metadata": {},
   "outputs": [
    {
     "name": "stdout",
     "output_type": "stream",
     "text": [
      "(24028, 3000) (6008, 3000)\n",
      "(24028, 1) (6008, 1)\n"
     ]
    }
   ],
   "source": [
    "X_train = np.load('x_train.npy', allow_pickle=True)\n",
    "X_test = np.load(\"x_test.npy\", allow_pickle=True)\n",
    "Y_train = np.load(\"y_train.npy\", allow_pickle=True)\n",
    "Y_test = np.load(\"y_test.npy\", allow_pickle=True)\n",
    "\n",
    "print(X_train.shape, X_test.shape)\n",
    "print(Y_train.shape, Y_test.shape)\n"
   ]
  },
  {
   "cell_type": "markdown",
   "metadata": {},
   "source": [
    "<h2>Decision Tree"
   ]
  },
  {
   "cell_type": "code",
   "execution_count": 3,
   "metadata": {},
   "outputs": [],
   "source": [
    "from sklearn.tree import DecisionTreeClassifier\n",
    "from sklearn.metrics import accuracy_score\n",
    "import time"
   ]
  },
  {
   "cell_type": "code",
   "execution_count": 4,
   "metadata": {},
   "outputs": [],
   "source": [
    "dt_model = DecisionTreeClassifier(random_state=1)"
   ]
  },
  {
   "cell_type": "markdown",
   "metadata": {},
   "source": [
    "Train Time"
   ]
  },
  {
   "cell_type": "code",
   "execution_count": 5,
   "metadata": {},
   "outputs": [
    {
     "name": "stdout",
     "output_type": "stream",
     "text": [
      "Time:  99.62846422195435\n"
     ]
    }
   ],
   "source": [
    "start_time = time.time()\n",
    "dt_result = dt_model.fit(X_train, Y_train)\n",
    "end_time = time.time()\n",
    "train_time_dt = end_time - start_time\n",
    "print(\"Time: \", train_time_dt)"
   ]
  },
  {
   "cell_type": "markdown",
   "metadata": {},
   "source": [
    "Test Time"
   ]
  },
  {
   "cell_type": "code",
   "execution_count": 6,
   "metadata": {},
   "outputs": [
    {
     "name": "stdout",
     "output_type": "stream",
     "text": [
      "Time:  0.05350899696350098\n"
     ]
    }
   ],
   "source": [
    "start_time = time.time()\n",
    "Y_pred_dt = dt_result.predict(X_test)\n",
    "end_time = time.time()\n",
    "test_time_dt = end_time - start_time\n",
    "print(\"Time: \", test_time_dt)"
   ]
  },
  {
   "cell_type": "markdown",
   "metadata": {},
   "source": [
    "Train and Test Score"
   ]
  },
  {
   "cell_type": "code",
   "execution_count": 7,
   "metadata": {},
   "outputs": [
    {
     "name": "stdout",
     "output_type": "stream",
     "text": [
      "accurate:  0.9515645805592543\n",
      "Train score: 0.9997919094389879\n",
      "Test score: 0.9515645805592543\n"
     ]
    }
   ],
   "source": [
    "accurate = accuracy_score(Y_test,Y_pred_dt)\n",
    "print(\"accurate: \", accurate)\n",
    "\n",
    "train_sc_dt = dt_model.score(X_train, Y_train)\n",
    "test_sc_dt = dt_model.score(X_test,Y_test)\n",
    "print(\"Train score:\", train_sc_dt)\n",
    "print(\"Test score:\", test_sc_dt)"
   ]
  },
  {
   "cell_type": "markdown",
   "metadata": {},
   "source": [
    "<h2>Multinomial Navie Bayes"
   ]
  },
  {
   "cell_type": "code",
   "execution_count": 8,
   "metadata": {},
   "outputs": [],
   "source": [
    "from sklearn.naive_bayes import MultinomialNB"
   ]
  },
  {
   "cell_type": "code",
   "execution_count": 9,
   "metadata": {},
   "outputs": [],
   "source": [
    "mnb_model = MultinomialNB()"
   ]
  },
  {
   "cell_type": "markdown",
   "metadata": {},
   "source": [
    "Train Time"
   ]
  },
  {
   "cell_type": "code",
   "execution_count": 10,
   "metadata": {},
   "outputs": [
    {
     "name": "stdout",
     "output_type": "stream",
     "text": [
      "Time:  0.19612503051757812\n"
     ]
    },
    {
     "name": "stderr",
     "output_type": "stream",
     "text": [
      "C:\\Users\\Welcome\\AppData\\Local\\Packages\\PythonSoftwareFoundation.Python.3.12_qbz5n2kfra8p0\\LocalCache\\local-packages\\Python312\\site-packages\\sklearn\\utils\\validation.py:1183: DataConversionWarning: A column-vector y was passed when a 1d array was expected. Please change the shape of y to (n_samples, ), for example using ravel().\n",
      "  y = column_or_1d(y, warn=True)\n"
     ]
    }
   ],
   "source": [
    "start_time = time.time()\n",
    "mnb_result = mnb_model.fit(X_train, Y_train)\n",
    "end_time = time.time()\n",
    "train_time_mnb = end_time - start_time\n",
    "print(\"Time: \", train_time_mnb)"
   ]
  },
  {
   "cell_type": "markdown",
   "metadata": {},
   "source": [
    "Test Time"
   ]
  },
  {
   "cell_type": "code",
   "execution_count": 11,
   "metadata": {},
   "outputs": [
    {
     "name": "stdout",
     "output_type": "stream",
     "text": [
      "Time:  0.07619071006774902\n"
     ]
    }
   ],
   "source": [
    "start_time = time.time()\n",
    "Y_pred_mnb = mnb_result.predict(X_test)\n",
    "end_time = time.time()\n",
    "test_time_mnb = end_time - start_time\n",
    "print(\"Time: \", test_time_mnb)"
   ]
  },
  {
   "cell_type": "markdown",
   "metadata": {},
   "source": [
    "Train and Test Score"
   ]
  },
  {
   "cell_type": "code",
   "execution_count": 12,
   "metadata": {},
   "outputs": [
    {
     "name": "stdout",
     "output_type": "stream",
     "text": [
      "Train score: 0.978733144664558\n",
      "Test score: 0.9773635153129161\n"
     ]
    }
   ],
   "source": [
    "train_sc_mnb = mnb_model.score(X_train, Y_train)\n",
    "test_sc_mnb = mnb_model.score(X_test,Y_test)\n",
    "print(\"Train score:\", train_sc_mnb)\n",
    "print(\"Test score:\", test_sc_mnb)"
   ]
  },
  {
   "cell_type": "markdown",
   "metadata": {},
   "source": [
    "<h2>Logistic Regression"
   ]
  },
  {
   "cell_type": "code",
   "execution_count": 13,
   "metadata": {},
   "outputs": [],
   "source": [
    "from sklearn.linear_model import LogisticRegression"
   ]
  },
  {
   "cell_type": "code",
   "execution_count": 14,
   "metadata": {},
   "outputs": [],
   "source": [
    "lr_model = LogisticRegression(random_state=1)"
   ]
  },
  {
   "cell_type": "markdown",
   "metadata": {},
   "source": [
    "Train Time"
   ]
  },
  {
   "cell_type": "code",
   "execution_count": 15,
   "metadata": {},
   "outputs": [
    {
     "name": "stderr",
     "output_type": "stream",
     "text": [
      "C:\\Users\\Welcome\\AppData\\Local\\Packages\\PythonSoftwareFoundation.Python.3.12_qbz5n2kfra8p0\\LocalCache\\local-packages\\Python312\\site-packages\\sklearn\\utils\\validation.py:1183: DataConversionWarning: A column-vector y was passed when a 1d array was expected. Please change the shape of y to (n_samples, ), for example using ravel().\n",
      "  y = column_or_1d(y, warn=True)\n"
     ]
    },
    {
     "name": "stdout",
     "output_type": "stream",
     "text": [
      "Time:  4.221630811691284\n"
     ]
    }
   ],
   "source": [
    "start_time = time.time()\n",
    "lr_result = lr_model.fit(X_train, Y_train)\n",
    "end_time = time.time()\n",
    "train_time_lr = end_time - start_time\n",
    "print(\"Time: \", train_time_lr)"
   ]
  },
  {
   "cell_type": "markdown",
   "metadata": {},
   "source": [
    "Test Time"
   ]
  },
  {
   "cell_type": "code",
   "execution_count": 16,
   "metadata": {},
   "outputs": [
    {
     "name": "stdout",
     "output_type": "stream",
     "text": [
      "Time:  0.029920578002929688\n"
     ]
    }
   ],
   "source": [
    "start_time = time.time()\n",
    "Y_pred_lr = lr_result.predict(X_test)\n",
    "end_time = time.time()\n",
    "test_time_lr = end_time - start_time\n",
    "print(\"Time: \", test_time_lr)"
   ]
  },
  {
   "cell_type": "markdown",
   "metadata": {},
   "source": [
    "Train and Test Score"
   ]
  },
  {
   "cell_type": "code",
   "execution_count": 17,
   "metadata": {},
   "outputs": [
    {
     "name": "stdout",
     "output_type": "stream",
     "text": [
      "Train score: 0.9898035625104046\n",
      "Test score: 0.9856857523302264\n"
     ]
    }
   ],
   "source": [
    "train_sc_lr = lr_model.score(X_train, Y_train)\n",
    "test_sc_lr = lr_model.score(X_test,Y_test)\n",
    "print(\"Train score:\", train_sc_lr)\n",
    "print(\"Test score:\", test_sc_lr)"
   ]
  },
  {
   "cell_type": "markdown",
   "metadata": {},
   "source": [
    "<h2>Suppost Vetor Machine"
   ]
  },
  {
   "cell_type": "code",
   "execution_count": 18,
   "metadata": {},
   "outputs": [],
   "source": [
    "from sklearn.svm import SVC"
   ]
  },
  {
   "cell_type": "code",
   "execution_count": 19,
   "metadata": {},
   "outputs": [],
   "source": [
    "svm_model = SVC(kernel='linear', random_state=1)"
   ]
  },
  {
   "cell_type": "markdown",
   "metadata": {},
   "source": [
    "Train Time"
   ]
  },
  {
   "cell_type": "code",
   "execution_count": 20,
   "metadata": {},
   "outputs": [
    {
     "name": "stderr",
     "output_type": "stream",
     "text": [
      "C:\\Users\\Welcome\\AppData\\Local\\Packages\\PythonSoftwareFoundation.Python.3.12_qbz5n2kfra8p0\\LocalCache\\local-packages\\Python312\\site-packages\\sklearn\\utils\\validation.py:1183: DataConversionWarning: A column-vector y was passed when a 1d array was expected. Please change the shape of y to (n_samples, ), for example using ravel().\n",
      "  y = column_or_1d(y, warn=True)\n"
     ]
    },
    {
     "name": "stdout",
     "output_type": "stream",
     "text": [
      "Time:  134.1103231906891\n"
     ]
    }
   ],
   "source": [
    "start_time = time.time()\n",
    "svm_result = svm_model.fit(X_train, Y_train)\n",
    "end_time = time.time()\n",
    "train_time_svm = end_time - start_time\n",
    "print(\"Time: \", train_time_svm)"
   ]
  },
  {
   "cell_type": "markdown",
   "metadata": {},
   "source": [
    "Test Time"
   ]
  },
  {
   "cell_type": "code",
   "execution_count": 21,
   "metadata": {},
   "outputs": [
    {
     "name": "stdout",
     "output_type": "stream",
     "text": [
      "Time:  32.2540237903595\n"
     ]
    }
   ],
   "source": [
    "start_time = time.time()\n",
    "Y_pred_svm = svm_result.predict(X_test)\n",
    "end_time = time.time()\n",
    "test_time_svm = end_time - start_time\n",
    "print(\"Time: \", test_time_svm)"
   ]
  },
  {
   "cell_type": "markdown",
   "metadata": {},
   "source": [
    "Train and Test Score"
   ]
  },
  {
   "cell_type": "code",
   "execution_count": 22,
   "metadata": {},
   "outputs": [
    {
     "name": "stdout",
     "output_type": "stream",
     "text": [
      "Train score: 0.9935075744964208\n",
      "Test score: 0.9868508655126498\n"
     ]
    }
   ],
   "source": [
    "train_sc_svm = svm_model.score(X_train, Y_train)\n",
    "test_sc_svm = svm_model.score(X_test,Y_test)\n",
    "print(\"Train score:\", train_sc_svm)\n",
    "print(\"Test score:\", test_sc_svm)"
   ]
  },
  {
   "cell_type": "markdown",
   "metadata": {},
   "source": [
    "<h2>Random Forests"
   ]
  },
  {
   "cell_type": "code",
   "execution_count": 23,
   "metadata": {},
   "outputs": [],
   "source": [
    "from sklearn.ensemble import RandomForestClassifier"
   ]
  },
  {
   "cell_type": "code",
   "execution_count": 24,
   "metadata": {},
   "outputs": [],
   "source": [
    "rf_model = RandomForestClassifier(random_state=1)"
   ]
  },
  {
   "cell_type": "markdown",
   "metadata": {},
   "source": [
    "Train Time"
   ]
  },
  {
   "cell_type": "code",
   "execution_count": 25,
   "metadata": {},
   "outputs": [
    {
     "name": "stderr",
     "output_type": "stream",
     "text": [
      "C:\\Users\\Welcome\\AppData\\Local\\Packages\\PythonSoftwareFoundation.Python.3.12_qbz5n2kfra8p0\\LocalCache\\local-packages\\Python312\\site-packages\\sklearn\\base.py:1152: DataConversionWarning: A column-vector y was passed when a 1d array was expected. Please change the shape of y to (n_samples,), for example using ravel().\n",
      "  return fit_method(estimator, *args, **kwargs)\n"
     ]
    },
    {
     "name": "stdout",
     "output_type": "stream",
     "text": [
      "Time:  65.5650143623352\n"
     ]
    }
   ],
   "source": [
    "start_time = time.time()\n",
    "rf_result = rf_model.fit(X_train, Y_train)\n",
    "end_time = time.time()\n",
    "train_time_rf = end_time - start_time\n",
    "print(\"Time: \", train_time_rf)"
   ]
  },
  {
   "cell_type": "markdown",
   "metadata": {},
   "source": [
    "Test Time"
   ]
  },
  {
   "cell_type": "code",
   "execution_count": 26,
   "metadata": {},
   "outputs": [
    {
     "name": "stdout",
     "output_type": "stream",
     "text": [
      "Time:  0.5838541984558105\n"
     ]
    }
   ],
   "source": [
    "start_time = time.time()\n",
    "Y_pred_rf = rf_result.predict(X_test)\n",
    "end_time = time.time()\n",
    "test_time_rf = end_time - start_time\n",
    "print(\"Time: \", test_time_rf)"
   ]
  },
  {
   "cell_type": "markdown",
   "metadata": {},
   "source": [
    "Train and Test Score"
   ]
  },
  {
   "cell_type": "code",
   "execution_count": 27,
   "metadata": {},
   "outputs": [
    {
     "name": "stdout",
     "output_type": "stream",
     "text": [
      "Train score: 0.9997919094389879\n",
      "Test score: 0.9810252996005326\n"
     ]
    }
   ],
   "source": [
    "train_sc_rf = rf_model.score(X_train, Y_train)\n",
    "test_sc_rf = rf_model.score(X_test,Y_test)\n",
    "print(\"Train score:\", train_sc_rf)\n",
    "print(\"Test score:\", test_sc_rf)"
   ]
  },
  {
   "cell_type": "markdown",
   "metadata": {},
   "source": [
    "<h2>Neural Network"
   ]
  },
  {
   "cell_type": "code",
   "execution_count": 28,
   "metadata": {},
   "outputs": [],
   "source": [
    "from sklearn.neural_network import MLPClassifier "
   ]
  },
  {
   "cell_type": "code",
   "execution_count": 29,
   "metadata": {},
   "outputs": [],
   "source": [
    "nn_model = MLPClassifier(random_state=1)"
   ]
  },
  {
   "cell_type": "markdown",
   "metadata": {},
   "source": [
    "Train Time"
   ]
  },
  {
   "cell_type": "code",
   "execution_count": 30,
   "metadata": {},
   "outputs": [
    {
     "name": "stderr",
     "output_type": "stream",
     "text": [
      "C:\\Users\\Welcome\\AppData\\Local\\Packages\\PythonSoftwareFoundation.Python.3.12_qbz5n2kfra8p0\\LocalCache\\local-packages\\Python312\\site-packages\\sklearn\\neural_network\\_multilayer_perceptron.py:1102: DataConversionWarning: A column-vector y was passed when a 1d array was expected. Please change the shape of y to (n_samples, ), for example using ravel().\n",
      "  y = column_or_1d(y, warn=True)\n"
     ]
    },
    {
     "name": "stdout",
     "output_type": "stream",
     "text": [
      "Time:  78.93042993545532\n"
     ]
    }
   ],
   "source": [
    "start_time = time.time()\n",
    "nn_result = nn_model.fit(X_train, Y_train)\n",
    "end_time = time.time()\n",
    "train_time_nn = end_time - start_time\n",
    "print(\"Time: \", train_time_nn)"
   ]
  },
  {
   "cell_type": "markdown",
   "metadata": {},
   "source": [
    "Test Time"
   ]
  },
  {
   "cell_type": "code",
   "execution_count": 31,
   "metadata": {},
   "outputs": [
    {
     "name": "stdout",
     "output_type": "stream",
     "text": [
      "Time:  0.09230709075927734\n"
     ]
    }
   ],
   "source": [
    "start_time = time.time()\n",
    "Y_pred_nn = nn_result.predict(X_test)\n",
    "end_time = time.time()\n",
    "test_time_nn = end_time - start_time\n",
    "print(\"Time: \", test_time_nn)"
   ]
  },
  {
   "cell_type": "markdown",
   "metadata": {},
   "source": [
    "Train and test score"
   ]
  },
  {
   "cell_type": "code",
   "execution_count": 32,
   "metadata": {},
   "outputs": [
    {
     "name": "stdout",
     "output_type": "stream",
     "text": [
      "Train score: 0.9997919094389879\n",
      "Test score: 0.9803595206391478\n"
     ]
    }
   ],
   "source": [
    "train_sc_nn = nn_model.score(X_train, Y_train)\n",
    "test_sc_nn = nn_model.score(X_test,Y_test)\n",
    "print(\"Train score:\", train_sc_nn)\n",
    "print(\"Test score:\", test_sc_nn)"
   ]
  },
  {
   "cell_type": "markdown",
   "metadata": {},
   "source": [
    "<h2> Analyze and Select Models"
   ]
  },
  {
   "cell_type": "code",
   "execution_count": 33,
   "metadata": {},
   "outputs": [],
   "source": [
    "import matplotlib.pyplot as plt"
   ]
  },
  {
   "cell_type": "markdown",
   "metadata": {},
   "source": [
    "Distribute by Train Accuracy"
   ]
  },
  {
   "cell_type": "code",
   "execution_count": 34,
   "metadata": {},
   "outputs": [
    {
     "name": "stdout",
     "output_type": "stream",
     "text": [
      "[0.9997919094389879, 0.978733144664558, 0.9898035625104046, 0.9935075744964208, 0.9997919094389879, 0.9997919094389879]\n"
     ]
    },
    {
     "data": {
      "text/plain": [
       "<BarContainer object of 6 artists>"
      ]
     },
     "execution_count": 34,
     "metadata": {},
     "output_type": "execute_result"
    },
    {
     "data": {
      "image/png": "[encoded data removed]",
      "text/plain": [
       "<Figure size 800x400 with 1 Axes>"
      ]
     },
     "metadata": {},
     "output_type": "display_data"
    }
   ],
   "source": [
    "models = ['DT', 'MNB', 'LR', 'SVM', 'RF', 'NN']\n",
    "values = [train_sc_dt, train_sc_mnb, train_sc_lr, train_sc_svm, train_sc_rf, train_sc_nn]\n",
    "print(values)\n",
    "f = plt.figure(figsize=(8,4))\n",
    "plt.subplot(131)\n",
    "plt.ylim(0.80,1.02)\n",
    "plt.title('Models Distribution by Training Score', fontweight='bold')\n",
    "plt.ylabel('Train Score 1/100 (%)')\n",
    "plt.xlabel('Models')\n",
    "plt.bar(models,values)"
   ]
  },
  {
   "cell_type": "markdown",
   "metadata": {},
   "source": [
    "Distribute by Test Accuracy"
   ]
  },
  {
   "cell_type": "code",
   "execution_count": 35,
   "metadata": {},
   "outputs": [
    {
     "name": "stdout",
     "output_type": "stream",
     "text": [
      "[0.9515645805592543, 0.9773635153129161, 0.9856857523302264, 0.9868508655126498, 0.9810252996005326, 0.9803595206391478]\n"
     ]
    },
    {
     "data": {
      "text/plain": [
       "<BarContainer object of 6 artists>"
      ]
     },
     "execution_count": 35,
     "metadata": {},
     "output_type": "execute_result"
    },
    {
     "data": {
      "image/png": "[encoded data removed]",
      "text/plain": [
       "<Figure size 800x400 with 1 Axes>"
      ]
     },
     "metadata": {},
     "output_type": "display_data"
    }
   ],
   "source": [
    "models = ['DT', 'MNB', 'LR', 'SVM', 'RF', 'NN']\n",
    "values = [test_sc_dt, test_sc_mnb, test_sc_lr, test_sc_svm, test_sc_rf, test_sc_nn]\n",
    "print(values)\n",
    "f = plt.figure(figsize=(8,4))\n",
    "plt.subplot(131)\n",
    "plt.ylim(0.80,1.02)\n",
    "plt.title('Models Distribution by Testing Score', fontweight='bold')\n",
    "plt.ylabel('Test Score 1/100 (%)')\n",
    "plt.xlabel('Models')\n",
    "plt.bar(models,values)\n"
   ]
  },
  {
   "cell_type": "markdown",
   "metadata": {},
   "source": [
    "Distribute by Training Time"
   ]
  },
  {
   "cell_type": "code",
   "execution_count": 36,
   "metadata": {},
   "outputs": [
    {
     "name": "stdout",
     "output_type": "stream",
     "text": [
      "[99.62846422195435, 0.19612503051757812, 4.221630811691284, 134.1103231906891, 65.5650143623352, 78.93042993545532]\n"
     ]
    },
    {
     "data": {
      "text/plain": [
       "[<matplotlib.lines.Line2D at 0x22302f40c20>]"
      ]
     },
     "execution_count": 36,
     "metadata": {},
     "output_type": "execute_result"
    },
    {
     "data": {
      "image/png": "[encoded data removed]",
      "text/plain": [
       "<Figure size 800x400 with 1 Axes>"
      ]
     },
     "metadata": {},
     "output_type": "display_data"
    }
   ],
   "source": [
    "plt.close()\n",
    "models = ['DT', 'MNB', 'LR', 'SVM', 'RF', 'NN']\n",
    "value_time = [train_time_dt, train_time_mnb, train_time_lr, train_time_svm, train_time_rf, train_time_nn]\n",
    "print(value_time)\n",
    "f = plt.figure(figsize=(8,4))\n",
    "plt.title('Models Distribution by Training Time', fontweight='bold')\n",
    "plt.ylabel('Train Time (sec)')\n",
    "plt.xlabel('Models')\n",
    "plt.plot(models,value_time)"
   ]
  },
  {
   "cell_type": "markdown",
   "metadata": {},
   "source": [
    "Distribute by Testing Time"
   ]
  },
  {
   "cell_type": "code",
   "execution_count": 37,
   "metadata": {},
   "outputs": [
    {
     "name": "stdout",
     "output_type": "stream",
     "text": [
      "[0.05350899696350098, 0.07619071006774902, 0.029920578002929688, 32.2540237903595, 0.5838541984558105, 0.09230709075927734]\n"
     ]
    },
    {
     "data": {
      "text/plain": [
       "[<matplotlib.lines.Line2D at 0x22305049490>]"
      ]
     },
     "execution_count": 37,
     "metadata": {},
     "output_type": "execute_result"
    },
    {
     "data": {
      "image/png": "[encoded data removed]",
      "text/plain": [
       "<Figure size 800x400 with 1 Axes>"
      ]
     },
     "metadata": {},
     "output_type": "display_data"
    }
   ],
   "source": [
    "\n",
    "models = ['DT', 'MNB', 'LR', 'SVM', 'RF', 'NN']\n",
    "value_time = [test_time_dt, test_time_mnb, test_time_lr, test_time_svm, test_time_rf, test_time_nn]\n",
    "print(value_time)\n",
    "f = plt.figure(figsize=(8,4))\n",
    "plt.title('Models Distribution by Testing Time', fontweight='bold')\n",
    "plt.ylabel('Test Time (sec)')\n",
    "plt.xlabel('Models')\n",
    "plt.plot(models,value_time)"
   ]
  },
  {
   "cell_type": "markdown",
   "metadata": {},
   "source": [
    "<h2>Save Model"
   ]
  },
  {
   "cell_type": "markdown",
   "metadata": {},
   "source": [
    "In testing score Logistic Regression (LR) and Suppost Vector Machine (SVM) with highest accuracy, but time to training and testing SVM longer than LR"
   ]
  },
  {
   "cell_type": "markdown",
   "metadata": {},
   "source": [
    "Confusion Matrix SVM"
   ]
  },
  {
   "cell_type": "code",
   "execution_count": 38,
   "metadata": {},
   "outputs": [],
   "source": [
    "from sklearn.metrics import confusion_matrix\n",
    "import pandas as pd\n",
    "import seaborn as sns"
   ]
  },
  {
   "cell_type": "code",
   "execution_count": 39,
   "metadata": {},
   "outputs": [
    {
     "data": {
      "image/png": "[encoded data removed]",
      "text/plain": [
       "<Figure size 500x500 with 1 Axes>"
      ]
     },
     "metadata": {},
     "output_type": "display_data"
    }
   ],
   "source": [
    "matrix = confusion_matrix(Y_test, Y_pred_svm)\n",
    "conf_matrix = pd.DataFrame(matrix, index = ['Ham','Spam'],columns = ['Ham','Spam'])\n",
    "conf_matrix = conf_matrix.astype('float') / conf_matrix.sum(axis=1)\n",
    "plt.figure(figsize = (5,5))\n",
    "sns.heatmap(conf_matrix, annot=True, annot_kws={\"size\": 20}, cbar=False, cmap='Pastel2_r')\n",
    "plt.show()"
   ]
  },
  {
   "cell_type": "markdown",
   "metadata": {},
   "source": [
    "True Positive(1): correctly predict Ham.\n",
    "\n",
    "False Positive(2): wrong prediction Ham.\n",
    "\n",
    "False Negative(3): wrong prediction of Spam.\n",
    "\n",
    "True Negative(4): correctly predict Spam."
   ]
  },
  {
   "cell_type": "markdown",
   "metadata": {},
   "source": [
    "Dump or Save model with pickle or joblib"
   ]
  },
  {
   "cell_type": "code",
   "execution_count": 40,
   "metadata": {},
   "outputs": [],
   "source": [
    "import pickle\n",
    "from joblib import dump"
   ]
  },
  {
   "cell_type": "code",
   "execution_count": 41,
   "metadata": {},
   "outputs": [],
   "source": [
    "#pickle.dump(model, open(\"dump_rf_model\", 'wb'))\n",
    "#load model with pickle\n",
    "#loaded_model = pickle.load(open(\"dump_rf_model\", 'rb'))"
   ]
  },
  {
   "cell_type": "code",
   "execution_count": 42,
   "metadata": {},
   "outputs": [
    {
     "data": {
      "text/plain": [
       "['dump_svm_model.joblib']"
      ]
     },
     "execution_count": 42,
     "metadata": {},
     "output_type": "execute_result"
    }
   ],
   "source": [
    "# save model Random Forests\n",
    "#dump(rf_result, \"dump_rf_model.joblib\")\n",
    "\n",
    "#load model with joblib\n",
    "#loaded_mode = joblib.load('dump_rf_model.joblib')\n",
    "\n",
    "# Save model SVM\n",
    "dump(svm_result, \"dump_svm_model.joblib\")\n",
    "\n",
    "#dump(dt_result, \"dump_dt_model.joblib\")"
   ]
  }
 ],
 "metadata": {
  "kernelspec": {
   "display_name": "Python 3",
   "language": "python",
   "name": "python3"
  },
  "language_info": {
   "codemirror_mode": {
    "name": "ipython",
    "version": 3
   },
   "file_extension": ".py",
   "mimetype": "text/x-python",
   "name": "python",
   "nbconvert_exporter": "python",
   "pygments_lexer": "ipython3",
   "version": "3.12.3"
  }
 },
 "nbformat": 4,
 "nbformat_minor": 2
}
